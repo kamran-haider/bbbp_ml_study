{
 "cells": [
  {
   "cell_type": "markdown",
   "metadata": {},
   "source": [
    "### Reproducing Results of DeepChem models on BBBP dataset"
   ]
  },
  {
   "cell_type": "markdown",
   "metadata": {},
   "source": [
    "In this notebook, I will reproduce the results on blood brain barrier prediction dataset, which are part of MoleculeNet benchmarks. The dataset was downloaded from [MoleculeNet](http://moleculenet.ai/datasets-1)."
   ]
  },
  {
   "cell_type": "code",
   "execution_count": 1,
   "metadata": {
    "collapsed": true
   },
   "outputs": [],
   "source": [
    "import os\n",
    "import sys\n",
    "import numpy as np\n",
    "import deepchem as dc\n",
    "from rdkit import Chem\n",
    "from rdkit.Chem import Draw\n",
    "np.random.seed(123)"
   ]
  },
  {
   "cell_type": "markdown",
   "metadata": {},
   "source": [
    "We will start by loading the dataset and taking a quick look at it. We can use commands in  the BACE dataset [jupyter notebook](https://github.com/deepchem/deepchem/blob/master/examples/notebooks/BACE.ipynb) in deepchem examples."
   ]
  },
  {
   "cell_type": "code",
   "execution_count": 2,
   "metadata": {
    "collapsed": false
   },
   "outputs": [
    {
     "name": "stdout",
     "output_type": "stream",
     "text": [
      "('Shape of the Dataset: ', (2050, 4))\n",
      "<bound method DataFrame.head of        num                               name  p_np  \\\n",
      "0        1                         Propanolol     1   \n",
      "1        2               Terbutylchlorambucil     1   \n",
      "2        3                              40730     1   \n",
      "3        4                                 24     1   \n",
      "4        5                        cloxacillin     1   \n",
      "5        6                       cefoperazone     1   \n",
      "6        7                   rolitetracycline     1   \n",
      "7        8                        ondansetron     1   \n",
      "8        9                          diltiazem     1   \n",
      "9       10                          Amiloride     1   \n",
      "10      11                         M2L-663581     0   \n",
      "11      12                          alovudine     1   \n",
      "12      13                                 18     1   \n",
      "13      14                              24959     1   \n",
      "14      15                          methadone     1   \n",
      "15      16                         alfentanil     1   \n",
      "16      17                           BRL53080     1   \n",
      "17      18                        hyoscyamine     1   \n",
      "18      19                          glyburide     1   \n",
      "19      20                        lamotrigine     1   \n",
      "20      21                    2-Methylpentane     1   \n",
      "21      22                      Dexamfetamine     1   \n",
      "22      23                          SKF-93619     0   \n",
      "23      24                            nadolol     1   \n",
      "24      25                         sufentanil     1   \n",
      "25      26                                 12     0   \n",
      "26      27                           zolpidem     1   \n",
      "27      28                          clozapine     1   \n",
      "28      29                           Org12692     1   \n",
      "29      30                       piperacillin     1   \n",
      "...    ...                                ...   ...   \n",
      "2020  2024                 trepipam(trimopam)     1   \n",
      "2021  2025            triamcinolone-acetonide     1   \n",
      "2022  2026            triamcinolone-diacetate     1   \n",
      "2023  2027         triamcinolone-hexacetonide     1   \n",
      "2024  2028                      triclacetamol     1   \n",
      "2025  2029                        triflubazam     1   \n",
      "2026  2030                   trifluomeprazine     1   \n",
      "2027  2031                    trifluoperazine     1   \n",
      "2028  2032                      trimethadione     1   \n",
      "2029  2033                         tropapride     1   \n",
      "2030  2034                         tuclazepam     1   \n",
      "2031  2035                         ulobetasol     1   \n",
      "2032  2036                        valdetamide     1   \n",
      "2033  2037                       valnoctamide     1   \n",
      "2034  2038                         valperinol     1   \n",
      "2035  2039                         valpromide     1   \n",
      "2036  2040                        vinbarbital     1   \n",
      "2037  2041                         vinylbital     1   \n",
      "2038  2042                          viqualine     1   \n",
      "2039  2043                         xanomeline     1   \n",
      "2040  2044                           zaleplon     1   \n",
      "2041  2045                          zimeldine     1   \n",
      "2042  2046                          zomebazam     1   \n",
      "2043  2047                         zometapine     1   \n",
      "2044  2048                      nitrous-oxide     1   \n",
      "2045  2049                         licostinel     1   \n",
      "2046  2050  ademetionine(adenosyl-methionine)     1   \n",
      "2047  2051                           mesocarb     1   \n",
      "2048  2052                         tofisoline     1   \n",
      "2049  2053                      azidamfenicol     1   \n",
      "\n",
      "                                                 smiles  \n",
      "0                      [Cl].CC(C)NCC(O)COc1cccc2ccccc12  \n",
      "1              C(=O)(OC(C)(C)C)CCCc1ccc(cc1)N(CCCl)CCCl  \n",
      "2     c12c3c(N4CCN(C)CC4)c(F)cc1c(c(C(O)=O)cn2C(C)CO...  \n",
      "3                      C1CCN(CC1)Cc1cccc(c1)OCCCNC(=O)C  \n",
      "4     Cc1onc(c2ccccc2Cl)c1C(=O)N[C@H]3[C@H]4SC(C)(C)...  \n",
      "5     CCN1CCN(C(=O)N[C@@H](C(=O)N[C@H]2[C@H]3SCC(=C(...  \n",
      "6     CN(C)[C@H]1[C@@H]2C[C@H]3C(=C(O)c4c(O)cccc4[C@...  \n",
      "7                   Cn1c2CCC(Cn3ccnc3C)C(=O)c2c4ccccc14  \n",
      "8     COc1ccc(cc1)[C@@H]2Sc3ccccc3N(CCN(C)C)C(=O)[C@...  \n",
      "9                          NC(N)=NC(=O)c1nc(Cl)c(N)nc1N  \n",
      "10      OCC(C)(O)c1onc(c2ncn3c2CN(C)C(c4c3cccc4Cl)=O)n1  \n",
      "11        CC1=CN([C@H]2C[C@H](F)[C@@H](CO)O2)C(=O)NC1=O  \n",
      "12                                              C(Cl)Cl  \n",
      "13    C1N(C(CC2CCCCC12)C(NC(C)(C)C)=O)CC(C(Cc1ccccc1...  \n",
      "14               CCC(=O)C(CC(C)N(C)C)(c1ccccc1)c2ccccc2  \n",
      "15    CCN1N=NN(CCN2CCC(CC2)(COC)N(C(=O)CC)c3ccccc3)C1=O  \n",
      "16    CN(C)C(=O)C(CCN1CCC(O)(CC1)c1ccc(Cl)cc1)(c1ccc...  \n",
      "17               CN1C2CCC1CC(C2)OC(=O)[C@H](CO)c3ccccc3  \n",
      "18    COc1ccc(Cl)cc1C(=O)NCCc2ccc(cc2)[S](=O)(=O)NC(...  \n",
      "19                         Nc1nnc(c(N)n1)c2cccc(Cl)c2Cl  \n",
      "20                                             CCCC(C)C  \n",
      "21                                   C[C@H](N)Cc1ccccc1  \n",
      "22    c1cc2c(cc(CC3=CNC(=NC3=O)NCCSCc3oc(cc3)CN(C)C)...  \n",
      "23       CC(C)(C)NCC(O)COc1cccc2C[C@@H](O)[C@@H](O)Cc12  \n",
      "24           CCC(=O)N(c1ccccc1)C2(CCN(CCc3sccc3)CC2)COC  \n",
      "25                         CCNC(=NC#N)NCCSCc1c(cccn1)Br  \n",
      "26               CN(C)C(=O)Cc1n2cc(C)ccc2nc1c3ccc(C)cc3  \n",
      "27             CN1CCN(CC1)C2=C3C=CC=CC3=Nc4ccc(Cl)cc4N2  \n",
      "28                       FC(F)(F)c1c(Cl)nc(N2CCNCC2)cc1  \n",
      "29    O.CCN1CCN(C(=O)N[C@@H](C(=O)N[C@H]2[C@H]3SC(C)...  \n",
      "...                                                 ...  \n",
      "2020     [C@H]2(C1=CC(=C(OC)C=C1CCN(C2)C)OC)C3=CC=CC=C3  \n",
      "2021  [C@@]45([C@@]3([C@H]([C@H]2[C@]([C@@]1(C(=CC(=...  \n",
      "2022  [C@]34([C@H]([C@H]2[C@]([C@@]1(C(=CC(=O)C=C1)C...  \n",
      "2023  [C@@]45([C@@]3([C@H]([C@H]2[C@]([C@@]1(C(=CC(=...  \n",
      "2024                  C1=C(NC(C(Cl)(Cl)Cl)=O)C=CC(=C1)O  \n",
      "2025  C1=C(C(F)(F)F)C=CC3=C1N(C2=CC=CC=C2)C(CC(N3C)=...  \n",
      "2026  C1=CC=C2C(=C1)SC3=C(N2CC(C)CN(C)C)C=C(C=C3)C(F...  \n",
      "2027  C1=C(C=CC3=C1N(CCCN2CCN(CC2)C)C4=C(S3)C=CC=C4)...  \n",
      "2028                             CC1(C(N(C(O1)=O)C)=O)C  \n",
      "2029  [C@H]13N([C@H](CC(C1)NC(C2=CC=CC(=C2OC)OC)=O)C...  \n",
      "2030      C1=C2C(=CC=C1)N(C(Cl)(CN=C2C3=CC=CC=C3Cl)CO)C  \n",
      "2031  CC4CC3C2CC(F)C1=CC(=O)C=CC1(C)C2(F)C(O)CC3(C)C...  \n",
      "2032                              C(C(C(N)=O)(CC)CC)C=C  \n",
      "2033                                C(C(C(CC)C)C(N)=O)C  \n",
      "2034  [C@@H]1(C[C@H]3[C@H]2[C@@]1(O[C@H](O[C@H]2OC)[...  \n",
      "2035                                  C(C(CCC)C(N)=O)CC  \n",
      "2036                 C(C1(C(NC(=O)NC1=O)=O)C(=C/CC)/C)C  \n",
      "2037                   C(C(C1(C(NC(=O)NC1=O)=O)C=C)C)CC  \n",
      "2038          C1=C(OC)C=CC2=NC=CC(=C12)CCCC3C(CNCC3)C=C  \n",
      "2039                     C(OC1=NSN=C1C2=CCCN(C2)C)CCCCC  \n",
      "2040   C2=N[N]1C(=CC=NC1=C2C#N)C3=CC(=CC=C3)N(C(C)=O)CC  \n",
      "2041          C2=C(\\C(C1=CC=CN=C1)=C\\CN(C)C)C=CC(=C2)Br  \n",
      "2042     C3=C(N2C1=C([N](C)N=C1C)N(C(=O)CC2=O)C)C=CC=C3  \n",
      "2043             C3=C(C1=NCCN=C2N(NC(=C12)C)C)C=CC=C3Cl  \n",
      "2044                                      [N+](=[N-])=O  \n",
      "2045    C1=C(Cl)C(=C(C2=C1NC(=O)C(N2)=O)[N+](=O)[O-])Cl  \n",
      "2046  [C@H]3([N]2C1=C(C(=NC=N1)N)N=C2)[C@@H]([C@@H](...  \n",
      "2047  [O+]1=N[N](C=C1[N-]C(NC2=CC=CC=C2)=O)C(CC3=CC=...  \n",
      "2048  C1=C(OC)C(=CC2=C1C(=[N+](C(=C2CC)C)[NH-])C3=CC...  \n",
      "2049  [N+](=NCC(=O)N[C@@H]([C@H](O)C1=CC=C([N+]([O-]...  \n",
      "\n",
      "[2050 rows x 4 columns]>\n"
     ]
    }
   ],
   "source": [
    "bbbp_dataset = dc.utils.save.load_from_disk(\"../data/BBBP.csv\")\n",
    "print(\"Shape of the Dataset: \", bbbp_dataset.shape)\n",
    "print(bbbp_dataset.head)"
   ]
  },
  {
   "cell_type": "markdown",
   "metadata": {},
   "source": [
    "There are 2050 examples in the dataset and the most useful columns are `smiles` and `p_np`, which are used for the smiles representation and category label for each molecule. It is also helpful to take a look at the actual chemical structures that are encoded by these strings. We will use `rdkit` for this purpose. "
   ]
  },
  {
   "cell_type": "code",
   "execution_count": 17,
   "metadata": {
    "collapsed": false
   },
   "outputs": [
    {
     "ename": "NotImplementedError",
     "evalue": "tostring() has been removed. Please call tobytes() instead.",
     "output_type": "error",
     "traceback": [
      "\u001b[0;31m----------------------------------------------------------------\u001b[0m",
      "\u001b[0;31mNotImplementedError\u001b[0m            Traceback (most recent call last)",
      "\u001b[0;32m<ipython-input-17-ce4920916f8c>\u001b[0m in \u001b[0;36m<module>\u001b[0;34m()\u001b[0m\n\u001b[1;32m      3\u001b[0m     \u001b[0msm\u001b[0m \u001b[0;34m=\u001b[0m \u001b[0mbbbp_dataset\u001b[0m\u001b[0;34m.\u001b[0m\u001b[0msmiles\u001b[0m\u001b[0;34m[\u001b[0m\u001b[0mi\u001b[0m\u001b[0;34m]\u001b[0m\u001b[0;34m\u001b[0m\u001b[0m\n\u001b[1;32m      4\u001b[0m     \u001b[0mmol\u001b[0m \u001b[0;34m=\u001b[0m \u001b[0mChem\u001b[0m\u001b[0;34m.\u001b[0m\u001b[0mMolFromSmiles\u001b[0m\u001b[0;34m(\u001b[0m\u001b[0msm\u001b[0m\u001b[0;34m)\u001b[0m\u001b[0;34m\u001b[0m\u001b[0m\n\u001b[0;32m----> 5\u001b[0;31m     \u001b[0mDraw\u001b[0m\u001b[0;34m.\u001b[0m\u001b[0mMolToFile\u001b[0m\u001b[0;34m(\u001b[0m\u001b[0mmol\u001b[0m\u001b[0;34m,\u001b[0m \u001b[0mfileName\u001b[0m\u001b[0;34m=\u001b[0m\u001b[0;34m\"test.png\"\u001b[0m\u001b[0;34m)\u001b[0m\u001b[0;34m\u001b[0m\u001b[0m\n\u001b[0m",
      "\u001b[0;32m/usr/local/lib/python2.7/site-packages/rdkit/Chem/Draw/__init__.pyc\u001b[0m in \u001b[0;36mMolToFile\u001b[0;34m(mol, fileName, size, kekulize, wedgeBonds, imageType, fitImage, options, **kwargs)\u001b[0m\n\u001b[1;32m    167\u001b[0m   \u001b[0moptions\u001b[0m\u001b[0;34m.\u001b[0m\u001b[0mwedgeDashedBonds\u001b[0m \u001b[0;34m=\u001b[0m \u001b[0mwedgeBonds\u001b[0m\u001b[0;34m\u001b[0m\u001b[0m\n\u001b[1;32m    168\u001b[0m   \u001b[0;32mif\u001b[0m \u001b[0museCairo\u001b[0m \u001b[0;32mor\u001b[0m \u001b[0museAGG\u001b[0m\u001b[0;34m:\u001b[0m\u001b[0;34m\u001b[0m\u001b[0m\n\u001b[0;32m--> 169\u001b[0;31m     \u001b[0mcanvas\u001b[0m \u001b[0;34m=\u001b[0m \u001b[0mCanvas\u001b[0m\u001b[0;34m(\u001b[0m\u001b[0msize\u001b[0m\u001b[0;34m=\u001b[0m\u001b[0msize\u001b[0m\u001b[0;34m,\u001b[0m \u001b[0mimageType\u001b[0m\u001b[0;34m=\u001b[0m\u001b[0mimageType\u001b[0m\u001b[0;34m,\u001b[0m \u001b[0mfileName\u001b[0m\u001b[0;34m=\u001b[0m\u001b[0mfileName\u001b[0m\u001b[0;34m)\u001b[0m\u001b[0;34m\u001b[0m\u001b[0m\n\u001b[0m\u001b[1;32m    170\u001b[0m   \u001b[0;32melse\u001b[0m\u001b[0;34m:\u001b[0m\u001b[0;34m\u001b[0m\u001b[0m\n\u001b[1;32m    171\u001b[0m     \u001b[0moptions\u001b[0m\u001b[0;34m.\u001b[0m\u001b[0mradicalSymbol\u001b[0m \u001b[0;34m=\u001b[0m \u001b[0;34m'.'\u001b[0m  \u001b[0;31m# <- the sping canvas doesn't support unicode well\u001b[0m\u001b[0;34m\u001b[0m\u001b[0m\n",
      "\u001b[0;32m/usr/local/lib/python2.7/site-packages/rdkit/Chem/Draw/aggCanvas.pyc\u001b[0m in \u001b[0;36m__init__\u001b[0;34m(self, img, imageType, fileName, size)\u001b[0m\n\u001b[1;32m     44\u001b[0m       \u001b[0mimg\u001b[0m \u001b[0;34m=\u001b[0m \u001b[0mImage\u001b[0m\u001b[0;34m.\u001b[0m\u001b[0mnew\u001b[0m\u001b[0;34m(\u001b[0m\u001b[0;34m'RGBA'\u001b[0m\u001b[0;34m,\u001b[0m \u001b[0msize\u001b[0m\u001b[0;34m,\u001b[0m \u001b[0;34m\"white\"\u001b[0m\u001b[0;34m)\u001b[0m\u001b[0;34m\u001b[0m\u001b[0m\n\u001b[1;32m     45\u001b[0m     \u001b[0mself\u001b[0m\u001b[0;34m.\u001b[0m\u001b[0mimage\u001b[0m \u001b[0;34m=\u001b[0m \u001b[0mimg\u001b[0m\u001b[0;34m\u001b[0m\u001b[0m\n\u001b[0;32m---> 46\u001b[0;31m     \u001b[0mself\u001b[0m\u001b[0;34m.\u001b[0m\u001b[0mdraw\u001b[0m \u001b[0;34m=\u001b[0m \u001b[0mDraw\u001b[0m\u001b[0;34m(\u001b[0m\u001b[0mimg\u001b[0m\u001b[0;34m)\u001b[0m\u001b[0;34m\u001b[0m\u001b[0m\n\u001b[0m\u001b[1;32m     47\u001b[0m     \u001b[0mself\u001b[0m\u001b[0;34m.\u001b[0m\u001b[0mdraw\u001b[0m\u001b[0;34m.\u001b[0m\u001b[0msetantialias\u001b[0m\u001b[0;34m(\u001b[0m\u001b[0mTrue\u001b[0m\u001b[0;34m)\u001b[0m\u001b[0;34m\u001b[0m\u001b[0m\n\u001b[1;32m     48\u001b[0m     \u001b[0;32mif\u001b[0m \u001b[0msize\u001b[0m \u001b[0;32mis\u001b[0m \u001b[0mNone\u001b[0m\u001b[0;34m:\u001b[0m\u001b[0;34m\u001b[0m\u001b[0m\n",
      "\u001b[0;32m/Users/kamranhaider/anaconda2/lib/python2.7/site-packages/PIL/Image.pyc\u001b[0m in \u001b[0;36mtostring\u001b[0;34m(self, *args, **kw)\u001b[0m\n\u001b[1;32m    697\u001b[0m         \"\"\"\n\u001b[1;32m    698\u001b[0m         \u001b[0mReturn\u001b[0m \u001b[0mimage\u001b[0m \u001b[0;32mas\u001b[0m \u001b[0ma\u001b[0m \u001b[0mbytes\u001b[0m \u001b[0mobject\u001b[0m\u001b[0;34m.\u001b[0m\u001b[0;34m\u001b[0m\u001b[0m\n\u001b[0;32m--> 699\u001b[0;31m \u001b[0;34m\u001b[0m\u001b[0m\n\u001b[0m\u001b[1;32m    700\u001b[0m         \u001b[0;34m.\u001b[0m\u001b[0;34m.\u001b[0m \u001b[0mwarning\u001b[0m\u001b[0;34m:\u001b[0m\u001b[0;34m:\u001b[0m\u001b[0;34m\u001b[0m\u001b[0m\n\u001b[1;32m    701\u001b[0m \u001b[0;34m\u001b[0m\u001b[0m\n",
      "\u001b[0;31mNotImplementedError\u001b[0m: tostring() has been removed. Please call tobytes() instead."
     ]
    }
   ],
   "source": [
    "num_to_display = 12\n",
    "for i in range(num_to_display):\n",
    "    sm = bbbp_dataset.smiles[i]\n",
    "    mol = Chem.MolFromSmiles(sm)\n",
    "    Draw.MolToFile(mol, fileName=\"test.png\")"
   ]
  },
  {
   "cell_type": "code",
   "execution_count": null,
   "metadata": {
    "collapsed": true
   },
   "outputs": [],
   "source": []
  }
 ],
 "metadata": {
  "kernelspec": {
   "display_name": "Python 2",
   "language": "python",
   "name": "python2"
  },
  "language_info": {
   "codemirror_mode": {
    "name": "ipython",
    "version": 2
   },
   "file_extension": ".py",
   "mimetype": "text/x-python",
   "name": "python",
   "nbconvert_exporter": "python",
   "pygments_lexer": "ipython2",
   "version": "2.7.13"
  }
 },
 "nbformat": 4,
 "nbformat_minor": 2
}
