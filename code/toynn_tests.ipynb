{
 "cells": [
  {
   "cell_type": "markdown",
   "metadata": {},
   "source": [
    "### Testing toyNN "
   ]
  },
  {
   "cell_type": "code",
   "execution_count": 11,
   "metadata": {
    "collapsed": true
   },
   "outputs": [],
   "source": [
    "from __future__ import division\n",
    "import os\n",
    "from toyNN.models import BasicDeepModel\n",
    "from toyNN.layers import *\n",
    "from toyNN.utils import *\n"
   ]
  },
  {
   "cell_type": "code",
   "execution_count": 2,
   "metadata": {
    "collapsed": false
   },
   "outputs": [
    {
     "name": "stdout",
     "output_type": "stream",
     "text": [
      "Number of training examples: 209\n",
      "Number of testing examples: 50\n",
      "Each image is of size: (64, 64, 3)\n",
      "train_x_orig shape: (209, 64, 64, 3)\n",
      "train_y shape: (1, 209)\n",
      "test_x_orig shape: (50, 64, 64, 3)\n",
      "test_y shape: (1, 50)\n",
      "train_x's shape: (12288, 209)\n",
      "test_x's shape: (12288, 50)\n",
      "Cost after iteration 0: 0.771749328424\n",
      "Cost after iteration 100: 0.672053440082\n",
      "Cost after iteration 200: 0.648263204858\n",
      "Cost after iteration 300: 0.61150688161\n",
      "Cost after iteration 400: 0.567047326837\n",
      "Cost after iteration 500: 0.540137663455\n",
      "Cost after iteration 600: 0.527929956946\n",
      "Cost after iteration 700: 0.465477377177\n",
      "Cost after iteration 800: 0.369125852496\n",
      "Cost after iteration 900: 0.391746974348\n",
      "Cost after iteration 1000: 0.31518698886\n",
      "Cost after iteration 1100: 0.272699844179\n",
      "Cost after iteration 1200: 0.237418534003\n",
      "Cost after iteration 1300: 0.199601205322\n",
      "Cost after iteration 1400: 0.189263003885\n",
      "Cost after iteration 1500: 0.161188546658\n",
      "Cost after iteration 1600: 0.148213896624\n",
      "Cost after iteration 1700: 0.13777487813\n",
      "Cost after iteration 1800: 0.129740175492\n",
      "Cost after iteration 1900: 0.12122535068\n",
      "Cost after iteration 2000: 0.113820606686\n",
      "Cost after iteration 2100: 0.107839285263\n",
      "Cost after iteration 2200: 0.102854660694\n",
      "Cost after iteration 2300: 0.100897454453\n",
      "Cost after iteration 2400: 0.0928782152647\n"
     ]
    }
   ],
   "source": [
    "training_data = os.path.abspath(\"toyNN/tests/test_datasets/train_catvnoncat.h5\")\n",
    "test_data = os.path.abspath(\"toyNN/tests/test_datasets/test_catvnoncat.h5\")\n",
    "train_x_orig, train_y, test_x_orig, test_y, classes = load_test_data(training_data, test_data)\n",
    "# Explore your dataset\n",
    "m_train = train_x_orig.shape[0]\n",
    "num_px = train_x_orig.shape[1]\n",
    "m_test = test_x_orig.shape[0]\n",
    "\n",
    "print (\"Number of training examples: \" + str(m_train))\n",
    "print (\"Number of testing examples: \" + str(m_test))\n",
    "print (\"Each image is of size: (\" + str(num_px) + \", \" + str(num_px) + \", 3)\")\n",
    "print (\"train_x_orig shape: \" + str(train_x_orig.shape))\n",
    "print (\"train_y shape: \" + str(train_y.shape))\n",
    "print (\"test_x_orig shape: \" + str(test_x_orig.shape))\n",
    "print (\"test_y shape: \" + str(test_y.shape))\n",
    "\n",
    "# Preprocess\n",
    "# Reshape the training and test examples\n",
    "train_x_flatten = train_x_orig.reshape(train_x_orig.shape[0], -1).T   # The \"-1\" makes reshape flatten the remaining dimensions\n",
    "test_x_flatten = test_x_orig.reshape(test_x_orig.shape[0], -1).T\n",
    "\n",
    "# Standardize data to have feature values between 0 and 1.\n",
    "train_x = train_x_flatten/255.\n",
    "test_x = test_x_flatten/255.\n",
    "\n",
    "print (\"train_x's shape: \" + str(train_x.shape))\n",
    "print (\"test_x's shape: \" + str(test_x.shape))\n",
    "\n",
    "input_layer_nodes = num_px * num_px * 3\n",
    "layer_sizes = [input_layer_nodes, 20, 7, 5, 1]\n",
    "layers = [Input(input_layer_nodes), ReLU(20), ReLU(7), ReLU(5), Sigmoid(1)]\n",
    "np.random.seed(1)\n",
    "\n",
    "model = BasicDeepModel(train_x, train_y, layers, weight_initialization=\"custom\")\n",
    "model.fit(learning_rate=0.0075, n_epochs=2500)\n"
   ]
  },
  {
   "cell_type": "code",
   "execution_count": 12,
   "metadata": {
    "collapsed": false
   },
   "outputs": [
    {
     "name": "stdout",
     "output_type": "stream",
     "text": [
      "0.8\n"
     ]
    }
   ],
   "source": [
    "predictions = model.predict(test_x)\n",
    "m = test_x.shape[1]\n",
    "p = np.zeros((1,m))\n",
    "\n",
    "for i in range(0, predictions.shape[1]):\n",
    "    #print(predictions[0, i])\n",
    "    if predictions[0, i] > 0.5:\n",
    "        p[0, i] = 1\n",
    "    else:\n",
    "        p[0, i] = 0\n",
    "successes = np.sum(p == test_y)\n",
    "print(successes/m)\n"
   ]
  },
  {
   "cell_type": "code",
   "execution_count": null,
   "metadata": {
    "collapsed": true
   },
   "outputs": [],
   "source": []
  },
  {
   "cell_type": "code",
   "execution_count": null,
   "metadata": {
    "collapsed": true
   },
   "outputs": [],
   "source": []
  }
 ],
 "metadata": {
  "kernelspec": {
   "display_name": "Python 2",
   "language": "python",
   "name": "python2"
  },
  "language_info": {
   "codemirror_mode": {
    "name": "ipython",
    "version": 2
   },
   "file_extension": ".py",
   "mimetype": "text/x-python",
   "name": "python",
   "nbconvert_exporter": "python",
   "pygments_lexer": "ipython2",
   "version": "2.7.13"
  }
 },
 "nbformat": 4,
 "nbformat_minor": 2
}
